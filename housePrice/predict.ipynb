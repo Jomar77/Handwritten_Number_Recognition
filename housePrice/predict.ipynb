{
 "cells": [
  {
   "cell_type": "code",
   "execution_count": 3,
   "metadata": {},
   "outputs": [],
   "source": [
    "import pandas as pd\n",
    "import numpy as np\n",
    "import matplotlib.pyplot as plt\n",
    "import seaborn as sns\n"
   ]
  },
  {
   "cell_type": "code",
   "execution_count": 4,
   "metadata": {},
   "outputs": [],
   "source": [
    "data = pd.read_csv('nzx1.csv')"
   ]
  },
  {
   "cell_type": "code",
   "execution_count": 5,
   "metadata": {},
   "outputs": [
    {
     "data": {
      "text/html": [
       "<div>\n",
       "<style scoped>\n",
       "    .dataframe tbody tr th:only-of-type {\n",
       "        vertical-align: middle;\n",
       "    }\n",
       "\n",
       "    .dataframe tbody tr th {\n",
       "        vertical-align: top;\n",
       "    }\n",
       "\n",
       "    .dataframe thead th {\n",
       "        text-align: right;\n",
       "    }\n",
       "</style>\n",
       "<table border=\"1\" class=\"dataframe\">\n",
       "  <thead>\n",
       "    <tr style=\"text-align: right;\">\n",
       "      <th></th>\n",
       "      <th>Code</th>\n",
       "      <th>Company</th>\n",
       "      <th>Price</th>\n",
       "      <th>Change</th>\n",
       "      <th>Volume</th>\n",
       "      <th>Value</th>\n",
       "      <th>Capitalisation</th>\n",
       "    </tr>\n",
       "  </thead>\n",
       "  <tbody>\n",
       "    <tr>\n",
       "      <th>0</th>\n",
       "      <td>AFI</td>\n",
       "      <td>Australian Foundation Investment Company Limited</td>\n",
       "      <td>$8.730</td>\n",
       "      <td>-$0.010 / -0.11%</td>\n",
       "      <td>1,110</td>\n",
       "      <td>$9,758.71</td>\n",
       "      <td>$10,703,253,493</td>\n",
       "    </tr>\n",
       "    <tr>\n",
       "      <th>1</th>\n",
       "      <td>AMP</td>\n",
       "      <td>AMP Limited</td>\n",
       "      <td>$1.140</td>\n",
       "      <td>$0.000 / 0.00%</td>\n",
       "      <td>15,514</td>\n",
       "      <td>$17,707.16</td>\n",
       "      <td>$3,917,723,135</td>\n",
       "    </tr>\n",
       "    <tr>\n",
       "      <th>2</th>\n",
       "      <td>ANZ</td>\n",
       "      <td>Australia and New Zealand Banking Group Limited</td>\n",
       "      <td>$28.990</td>\n",
       "      <td>-$0.020 / -0.07%</td>\n",
       "      <td>28,778</td>\n",
       "      <td>$827,850.09</td>\n",
       "      <td>$82,294,466,216</td>\n",
       "    </tr>\n",
       "    <tr>\n",
       "      <th>3</th>\n",
       "      <td>DOW</td>\n",
       "      <td>Downer EDI Limited</td>\n",
       "      <td>$0.000</td>\n",
       "      <td>$0.000 / 0.00%</td>\n",
       "      <td>0</td>\n",
       "      <td>$0.00</td>\n",
       "      <td>$0</td>\n",
       "    </tr>\n",
       "    <tr>\n",
       "      <th>4</th>\n",
       "      <td>MHJ</td>\n",
       "      <td>Michael Hill International Limited</td>\n",
       "      <td>$0.870</td>\n",
       "      <td>$0.010 / 1.16%</td>\n",
       "      <td>1,241,671</td>\n",
       "      <td>$1,068,254.48</td>\n",
       "      <td>$337,808,275</td>\n",
       "    </tr>\n",
       "    <tr>\n",
       "      <th>...</th>\n",
       "      <td>...</td>\n",
       "      <td>...</td>\n",
       "      <td>...</td>\n",
       "      <td>...</td>\n",
       "      <td>...</td>\n",
       "      <td>...</td>\n",
       "      <td>...</td>\n",
       "    </tr>\n",
       "    <tr>\n",
       "      <th>181</th>\n",
       "      <td>TRA</td>\n",
       "      <td>Turners Automotive Group Limited</td>\n",
       "      <td>$4.480</td>\n",
       "      <td>$0.150 / 3.46%</td>\n",
       "      <td>88,996</td>\n",
       "      <td>$393,170.77</td>\n",
       "      <td>$385,590,231</td>\n",
       "    </tr>\n",
       "    <tr>\n",
       "      <th>182</th>\n",
       "      <td>WDT</td>\n",
       "      <td>Wellington Drive Technologies Limited</td>\n",
       "      <td>$0.122</td>\n",
       "      <td>-$0.002 / -1.61%</td>\n",
       "      <td>179,047</td>\n",
       "      <td>$21,782.68</td>\n",
       "      <td>$52,693,584</td>\n",
       "    </tr>\n",
       "    <tr>\n",
       "      <th>183</th>\n",
       "      <td>WHS</td>\n",
       "      <td>The Warehouse Group Limited</td>\n",
       "      <td>$3.780</td>\n",
       "      <td>$0.070 / 1.89%</td>\n",
       "      <td>54,766</td>\n",
       "      <td>$205,537.36</td>\n",
       "      <td>$1,311,066,994</td>\n",
       "    </tr>\n",
       "    <tr>\n",
       "      <th>184</th>\n",
       "      <td>WHS</td>\n",
       "      <td>The Warehouse Group Limited</td>\n",
       "      <td>$3.780</td>\n",
       "      <td>$0.070 / 1.89%</td>\n",
       "      <td>54,766</td>\n",
       "      <td>$205,537.36</td>\n",
       "      <td>$1,311,066,994</td>\n",
       "    </tr>\n",
       "    <tr>\n",
       "      <th>185</th>\n",
       "      <td>ZEL</td>\n",
       "      <td>Z Energy Limited</td>\n",
       "      <td>$3.530</td>\n",
       "      <td>$0.020 / 0.57%</td>\n",
       "      <td>1,131,911</td>\n",
       "      <td>$3,984,716.56</td>\n",
       "      <td>$1,836,083,501</td>\n",
       "    </tr>\n",
       "  </tbody>\n",
       "</table>\n",
       "<p>186 rows × 7 columns</p>\n",
       "</div>"
      ],
      "text/plain": [
       "    Code                                           Company    Price  \\\n",
       "0    AFI  Australian Foundation Investment Company Limited   $8.730   \n",
       "1    AMP                                       AMP Limited   $1.140   \n",
       "2    ANZ   Australia and New Zealand Banking Group Limited  $28.990   \n",
       "3    DOW                                Downer EDI Limited   $0.000   \n",
       "4    MHJ                Michael Hill International Limited   $0.870   \n",
       "..   ...                                               ...      ...   \n",
       "181  TRA                  Turners Automotive Group Limited   $4.480   \n",
       "182  WDT             Wellington Drive Technologies Limited   $0.122   \n",
       "183  WHS                       The Warehouse Group Limited   $3.780   \n",
       "184  WHS                       The Warehouse Group Limited   $3.780   \n",
       "185  ZEL                                  Z Energy Limited   $3.530   \n",
       "\n",
       "               Change     Volume          Value   Capitalisation  \n",
       "0    -$0.010 / -0.11%      1,110      $9,758.71  $10,703,253,493  \n",
       "1      $0.000 / 0.00%     15,514     $17,707.16   $3,917,723,135  \n",
       "2    -$0.020 / -0.07%     28,778    $827,850.09  $82,294,466,216  \n",
       "3      $0.000 / 0.00%          0          $0.00               $0  \n",
       "4      $0.010 / 1.16%  1,241,671  $1,068,254.48     $337,808,275  \n",
       "..                ...        ...            ...              ...  \n",
       "181    $0.150 / 3.46%     88,996    $393,170.77     $385,590,231  \n",
       "182  -$0.002 / -1.61%    179,047     $21,782.68      $52,693,584  \n",
       "183    $0.070 / 1.89%     54,766    $205,537.36   $1,311,066,994  \n",
       "184    $0.070 / 1.89%     54,766    $205,537.36   $1,311,066,994  \n",
       "185    $0.020 / 0.57%  1,131,911  $3,984,716.56   $1,836,083,501  \n",
       "\n",
       "[186 rows x 7 columns]"
      ]
     },
     "execution_count": 5,
     "metadata": {},
     "output_type": "execute_result"
    }
   ],
   "source": [
    "data "
   ]
  },
  {
   "cell_type": "code",
   "execution_count": 8,
   "metadata": {},
   "outputs": [
    {
     "name": "stdout",
     "output_type": "stream",
     "text": [
      "<class 'pandas.core.frame.DataFrame'>\n",
      "RangeIndex: 186 entries, 0 to 185\n",
      "Data columns (total 7 columns):\n",
      " #   Column          Non-Null Count  Dtype \n",
      "---  ------          --------------  ----- \n",
      " 0   Code            186 non-null    object\n",
      " 1   Company         186 non-null    object\n",
      " 2   Price           186 non-null    object\n",
      " 3   Change          186 non-null    object\n",
      " 4   Volume          186 non-null    object\n",
      " 5   Value           186 non-null    object\n",
      " 6   Capitalisation  186 non-null    object\n",
      "dtypes: object(7)\n",
      "memory usage: 10.3+ KB\n"
     ]
    }
   ],
   "source": [
    "data.info()"
   ]
  },
  {
   "cell_type": "code",
   "execution_count": 13,
   "metadata": {},
   "outputs": [],
   "source": [
    "data.dropna(inplace=True)"
   ]
  },
  {
   "cell_type": "code",
   "execution_count": 16,
   "metadata": {},
   "outputs": [
    {
     "name": "stdout",
     "output_type": "stream",
     "text": [
      "<class 'pandas.core.frame.DataFrame'>\n",
      "RangeIndex: 186 entries, 0 to 185\n",
      "Data columns (total 7 columns):\n",
      " #   Column          Non-Null Count  Dtype \n",
      "---  ------          --------------  ----- \n",
      " 0   Code            186 non-null    object\n",
      " 1   Company         186 non-null    object\n",
      " 2   Price           186 non-null    object\n",
      " 3   Change          186 non-null    object\n",
      " 4   Volume          186 non-null    object\n",
      " 5   Value           186 non-null    object\n",
      " 6   Capitalisation  186 non-null    object\n",
      "dtypes: object(7)\n",
      "memory usage: 10.3+ KB\n"
     ]
    }
   ],
   "source": [
    "data.info()"
   ]
  },
  {
   "cell_type": "code",
   "execution_count": null,
   "metadata": {},
   "outputs": [],
   "source": [
    "from scikit-learn import train_test_split\n",
    "\n",
    "x = data.drop(['value'],axis=1)"
   ]
  }
 ],
 "metadata": {
  "kernelspec": {
   "display_name": "Python 3",
   "language": "python",
   "name": "python3"
  },
  "language_info": {
   "codemirror_mode": {
    "name": "ipython",
    "version": 3
   },
   "file_extension": ".py",
   "mimetype": "text/x-python",
   "name": "python",
   "nbconvert_exporter": "python",
   "pygments_lexer": "ipython3",
   "version": "3.10.3"
  },
  "orig_nbformat": 4,
  "vscode": {
   "interpreter": {
    "hash": "33f8abc9f6dc440df145b61319b6ebee3d92d4348003d685c803cd8d83d4e5fe"
   }
  }
 },
 "nbformat": 4,
 "nbformat_minor": 2
}
